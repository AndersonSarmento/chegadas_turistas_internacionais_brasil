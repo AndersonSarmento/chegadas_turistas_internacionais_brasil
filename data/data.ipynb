{
 "cells": [
  {
   "cell_type": "code",
   "execution_count": 3,
   "id": "bf14b226",
   "metadata": {},
   "outputs": [
    {
     "ename": "ModuleNotFoundError",
     "evalue": "No module named 'findspark'",
     "output_type": "error",
     "traceback": [
      "\u001b[31m---------------------------------------------------------------------------\u001b[39m",
      "\u001b[31mModuleNotFoundError\u001b[39m                       Traceback (most recent call last)",
      "\u001b[36mCell\u001b[39m\u001b[36m \u001b[39m\u001b[32mIn[3]\u001b[39m\u001b[32m, line 1\u001b[39m\n\u001b[32m----> \u001b[39m\u001b[32m1\u001b[39m \u001b[38;5;28;01mimport\u001b[39;00m \u001b[34;01mfindspark\u001b[39;00m\n\u001b[32m      2\u001b[39m \u001b[38;5;66;03m# findspark.init() procura SPARK_HOME e JAVA_HOME nas suas variáveis de ambiente\u001b[39;00m\n\u001b[32m      3\u001b[39m \u001b[38;5;66;03m# (aquelas que você configurou no ~/.bashrc).\u001b[39;00m\n\u001b[32m      4\u001b[39m findspark.init()\n",
      "\u001b[31mModuleNotFoundError\u001b[39m: No module named 'findspark'"
     ]
    }
   ],
   "source": [
    "import findspark\n",
    "# findspark.init() procura SPARK_HOME e JAVA_HOME nas suas variáveis de ambiente\n",
    "# (aquelas que você configurou no ~/.bashrc).\n",
    "findspark.init()\n",
    "\n",
    "from pyspark.sql import SparkSession\n",
    "\n",
    "# Inicializa a SparkSession\n",
    "# O .builder fornece uma interface para configurar o Spark.\n",
    "# .appName() define um nome para sua aplicação Spark (útil para monitoramento).\n",
    "# .getOrCreate() tenta obter uma SparkSession existente ou cria uma nova se não houver.\n",
    "spark = SparkSession.builder \\\n",
    "    .appName(\"MeuPrimeiroSparkSession\") \\\n",
    "    .getOrCreate()\n",
    "\n",
    "# Opcional: Para verificar se a sessão foi criada, você pode imprimir o objeto spark\n",
    "print(\"SparkSession inicializada com sucesso!\")\n",
    "print(spark)\n",
    "\n",
    "# Agora você pode começar a usar o objeto 'spark' para suas operações de Data Engineering\n",
    "# Exemplo: Criar um DataFrame simples e mostrar\n",
    "df_exemplo = spark.range(5)\n",
    "df_exemplo.show()\n"
   ]
  },
  {
   "cell_type": "code",
   "execution_count": 5,
   "id": "5cd61e73",
   "metadata": {},
   "outputs": [
    {
     "ename": "ModuleNotFoundError",
     "evalue": "No module named 'pyspark'",
     "output_type": "error",
     "traceback": [
      "\u001b[31m---------------------------------------------------------------------------\u001b[39m",
      "\u001b[31mModuleNotFoundError\u001b[39m                       Traceback (most recent call last)",
      "\u001b[36mCell\u001b[39m\u001b[36m \u001b[39m\u001b[32mIn[5]\u001b[39m\u001b[32m, line 1\u001b[39m\n\u001b[32m----> \u001b[39m\u001b[32m1\u001b[39m \u001b[38;5;28;01mfrom\u001b[39;00m \u001b[34;01mpyspark\u001b[39;00m\u001b[34;01m.\u001b[39;00m\u001b[34;01msql\u001b[39;00m \u001b[38;5;28;01mimport\u001b[39;00m SparkSession\n\u001b[32m      3\u001b[39m spark = SparkSession.builder \\\n\u001b[32m      4\u001b[39m     .appName(\u001b[33m\"\u001b[39m\u001b[33mMeuAppSpark\u001b[39m\u001b[33m\"\u001b[39m) \\\n\u001b[32m      5\u001b[39m     .getOrCreate()\n",
      "\u001b[31mModuleNotFoundError\u001b[39m: No module named 'pyspark'"
     ]
    }
   ],
   "source": [
    "from pyspark.sql import SparkSession\n",
    "\n",
    "spark = SparkSession.builder \\\n",
    "    .appName(\"MeuAppSpark\") \\\n",
    "    .getOrCreate()"
   ]
  },
  {
   "cell_type": "code",
   "execution_count": null,
   "id": "57cd9b70",
   "metadata": {},
   "outputs": [],
   "source": [
    "spark.stop()"
   ]
  }
 ],
 "metadata": {
  "kernelspec": {
   "display_name": "Python 3",
   "language": "python",
   "name": "python3"
  },
  "language_info": {
   "codemirror_mode": {
    "name": "ipython",
    "version": 3
   },
   "file_extension": ".py",
   "mimetype": "text/x-python",
   "name": "python",
   "nbconvert_exporter": "python",
   "pygments_lexer": "ipython3",
   "version": "3.11.13"
  }
 },
 "nbformat": 4,
 "nbformat_minor": 5
}
